{
 "cells": [
  {
   "cell_type": "code",
   "execution_count": null,
   "id": "bf8d3640",
   "metadata": {},
   "outputs": [],
   "source": [
    "import pandas as pd\n",
    "import numpy as np\n",
    "import seaborn as sns\n",
    "\n",
    "import matplotlib.pyplot as plt\n",
    "import matplotlib.mlab as mlab\n",
    "import matplotlib\n",
    "plt.style.use('ggplot')\n",
    "from matplotlib.pyplot import figure\n",
    "\n",
    "\n",
    "# With 'inline', the output of plotting commands is displayed inline within Jupyter notebook\n",
    "# (directly below the code cell that produced it)\n",
    "%matplotlib inline\n",
    "\n",
    "# Customizes figure sizes in inches\n",
    "matplotlib.rcParams['figure.figsize'] = (12,8)\n",
    "\n",
    "# Ignores the warnings that arise\n",
    "pd.options.mode.chained_assignment = None\n",
    "\n",
    "\n",
    "# Reads the data into a DataFrame\n",
    "df = pd.read_csv('/Users/berk/Desktop/Data_Science_Projects/4_Python_Correlation/movies.csv')"
   ]
  },
  {
   "cell_type": "code",
   "execution_count": null,
   "id": "43d16aa4",
   "metadata": {},
   "outputs": [],
   "source": [
    "# Taking a look at the data\n",
    "df"
   ]
  },
  {
   "cell_type": "code",
   "execution_count": null,
   "id": "8c182ccd",
   "metadata": {},
   "outputs": [],
   "source": [
    "# Checks if there are any missing data (by looping through each column)\n",
    "\n",
    "for col in df.columns:\n",
    "    pct_missing = np.mean(df[col].isnull())\n",
    "    print('{} - {}%'.format(col, round(pct_missing*100)))"
   ]
  },
  {
   "cell_type": "code",
   "execution_count": null,
   "id": "2e47a404",
   "metadata": {},
   "outputs": [],
   "source": [
    "# Output the data types of our columns\n",
    "\n",
    "print(df.dtypes)"
   ]
  },
  {
   "cell_type": "code",
   "execution_count": null,
   "id": "c1f29def",
   "metadata": {},
   "outputs": [],
   "source": [
    "# Checks if there are any Outliers\n",
    "#(Using Boxplots are a great way to visualise the outliers in our our dataset)\n",
    "\n",
    "df.boxplot(column=['gross'])"
   ]
  },
  {
   "cell_type": "code",
   "execution_count": null,
   "id": "356576c3",
   "metadata": {},
   "outputs": [],
   "source": [
    "df.drop_duplicates()"
   ]
  },
  {
   "cell_type": "code",
   "execution_count": null,
   "id": "a01e6c02",
   "metadata": {},
   "outputs": [],
   "source": [
    "# Order our Data (by the 'gross' column) in descending order\n",
    "\n",
    "df.sort_values(by=['gross'], inplace=False, ascending=False)"
   ]
  },
  {
   "cell_type": "code",
   "execution_count": null,
   "id": "9389038b",
   "metadata": {},
   "outputs": [],
   "source": [
    "# Plots a linear regression model fit\n",
    "sns.regplot(x=\"gross\", y=\"budget\", data=df)"
   ]
  },
  {
   "cell_type": "code",
   "execution_count": null,
   "id": "bebf9dea",
   "metadata": {},
   "outputs": [],
   "source": [
    "# Plots a linear regression model fit\n",
    "# (trying different values for the x and y intercepts)\n",
    "sns.regplot(x=\"score\", y=\"gross\", data=df)"
   ]
  },
  {
   "cell_type": "code",
   "execution_count": null,
   "id": "9f1c8743",
   "metadata": {},
   "outputs": [],
   "source": [
    "# Correlation Matrix between all numeric columns\n",
    "\n",
    "df.corr(method ='pearson')"
   ]
  },
  {
   "cell_type": "code",
   "execution_count": null,
   "id": "89a51ae2",
   "metadata": {},
   "outputs": [],
   "source": [
    "df.corr(method ='kendall')"
   ]
  },
  {
   "cell_type": "code",
   "execution_count": null,
   "id": "52e4361d",
   "metadata": {},
   "outputs": [],
   "source": [
    "df.corr(method ='spearman')"
   ]
  },
  {
   "cell_type": "code",
   "execution_count": null,
   "id": "97e29345",
   "metadata": {},
   "outputs": [],
   "source": [
    "# Plotting a correlation matrix (for Numeric Features)\n",
    "\n",
    "correlation_matrix = df.corr()\n",
    "sns.heatmap(correlation_matrix, annot = True)\n",
    "plt.title(\"Correlation matrix for Numeric Features\")\n",
    "plt.xlabel(\"Movie features\")\n",
    "plt.ylabel(\"Movie features\")\n",
    "\n",
    "plt.show()"
   ]
  },
  {
   "cell_type": "code",
   "execution_count": null,
   "id": "dd7bffbb",
   "metadata": {},
   "outputs": [],
   "source": [
    "# Assign a random numeric value for each unique categorical value\n",
    "\n",
    "df.apply(lambda x: x.factorize()[0]).corr(method='pearson')"
   ]
  },
  {
   "cell_type": "code",
   "execution_count": null,
   "id": "f84cc366",
   "metadata": {},
   "outputs": [],
   "source": [
    "# Plotting a correlation matrix (for Movies)\n",
    "\n",
    "correlation_matrix = df.apply(lambda x: x.factorize()[0]).corr(method='pearson')\n",
    "sns.heatmap(correlation_matrix, annot = True)\n",
    "plt.title(\"Correlation matrix for Movies\")\n",
    "plt.xlabel(\"Movie features\")\n",
    "plt.ylabel(\"Movie features\")\n",
    "\n",
    "plt.show()"
   ]
  },
  {
   "cell_type": "code",
   "execution_count": null,
   "id": "737a3421",
   "metadata": {},
   "outputs": [],
   "source": [
    "correlation_mat = df.apply(lambda x: x.factorize()[0]).corr()\n",
    "\n",
    "corr_pairs = correlation_mat.unstack()\n",
    "\n",
    "print(corr_pairs)"
   ]
  },
  {
   "cell_type": "code",
   "execution_count": null,
   "id": "e4b34472",
   "metadata": {},
   "outputs": [],
   "source": [
    "sorted_pairs = corr_pairs.sort_values(kind=\"quicksort\")\n",
    "\n",
    "print(sorted_pairs)"
   ]
  },
  {
   "cell_type": "code",
   "execution_count": null,
   "id": "49e3d49d",
   "metadata": {},
   "outputs": [],
   "source": [
    "# Looking at the ones that have a high correlation (> 0.5)\n",
    "\n",
    "strong_pairs = sorted_pairs[abs(sorted_pairs) > 0.5]\n",
    "\n",
    "print(strong_pairs)"
   ]
  },
  {
   "cell_type": "code",
   "execution_count": null,
   "id": "07651b3f",
   "metadata": {},
   "outputs": [],
   "source": [
    "# Top 15 compaies by gross revenue\n",
    "\n",
    "CompanyGrossSum = df.groupby('company')[[\"gross\"]].sum()\n",
    "CompanyGrossSumSorted = CompanyGrossSum.sort_values('gross', ascending = False)[:15]\n",
    "CompanyGrossSumSorted = CompanyGrossSumSorted['gross'].astype('int64') \n",
    "\n",
    "CompanyGrossSumSorted"
   ]
  },
  {
   "cell_type": "code",
   "execution_count": null,
   "id": "347c923e",
   "metadata": {},
   "outputs": [],
   "source": [
    "df['Year'] = df['released'].astype(str).str[:4]\n",
    "df"
   ]
  },
  {
   "cell_type": "code",
   "execution_count": null,
   "id": "8de1a3fc",
   "metadata": {},
   "outputs": [],
   "source": [
    "df.groupby(['company', 'year'])[[\"gross\"]].sum()"
   ]
  },
  {
   "cell_type": "code",
   "execution_count": null,
   "id": "2e83857e",
   "metadata": {},
   "outputs": [],
   "source": [
    "CompanyGrossSum = df.groupby(['company', 'year'])[[\"gross\"]].sum()\n",
    "CompanyGrossSumSorted = CompanyGrossSum.sort_values(['gross','company','year'], ascending = False)[:15]\n",
    "CompanyGrossSumSorted = CompanyGrossSumSorted['gross'].astype('int64') \n",
    "\n",
    "CompanyGrossSumSorted"
   ]
  },
  {
   "cell_type": "code",
   "execution_count": null,
   "id": "550c8a48",
   "metadata": {},
   "outputs": [],
   "source": [
    "CompanyGrossSum = df.groupby(['company'])[[\"gross\"]].sum()\n",
    "CompanyGrossSumSorted = CompanyGrossSum.sort_values(['gross','company'], ascending = False)[:15]\n",
    "CompanyGrossSumSorted = CompanyGrossSumSorted['gross'].astype('int64') \n",
    "\n",
    "CompanyGrossSumSorted"
   ]
  },
  {
   "cell_type": "code",
   "execution_count": null,
   "id": "8c2a8588",
   "metadata": {},
   "outputs": [],
   "source": [
    "# Creates a Scatter Plot with 'budget' and 'gross' as intercepts\n",
    "plt.scatter(x=df['budget'], y=df['gross'], alpha=0.5)\n",
    "plt.title('Budget vs Gross Earnings')\n",
    "plt.xlabel('Gross Earnings')\n",
    "plt.ylabel('Budget for Film')\n",
    "plt.show()"
   ]
  },
  {
   "cell_type": "code",
   "execution_count": null,
   "id": "d7c44f97",
   "metadata": {},
   "outputs": [],
   "source": [
    "df"
   ]
  },
  {
   "cell_type": "code",
   "execution_count": null,
   "id": "b8a5dbab",
   "metadata": {},
   "outputs": [],
   "source": [
    "df_numerized = df\n",
    "\n",
    "\n",
    "for col_name in df_numerized.columns:\n",
    "    if(df_numerized[col_name].dtype == 'object'):\n",
    "        df_numerized[col_name]= df_numerized[col_name].astype('category')\n",
    "        df_numerized[col_name] = df_numerized[col_name].cat.codes\n",
    "        \n",
    "df_numerized"
   ]
  },
  {
   "cell_type": "code",
   "execution_count": null,
   "id": "aa45a297",
   "metadata": {},
   "outputs": [],
   "source": [
    "df_numerized.corr(method='pearson')"
   ]
  },
  {
   "cell_type": "code",
   "execution_count": null,
   "id": "31dbd739",
   "metadata": {},
   "outputs": [],
   "source": [
    "#Plots the Correlation matrix for Movies\n",
    "correlation_matrix = df_numerized.corr(method='pearson')\n",
    "sns.heatmap(correlation_matrix, annot = True)\n",
    "plt.title(\"Correlation matrix for Movies\")\n",
    "plt.xlabel(\"Movie features\")\n",
    "plt.ylabel(\"Movie features\")\n",
    "\n",
    "plt.show()"
   ]
  },
  {
   "cell_type": "code",
   "execution_count": null,
   "id": "58d94d88",
   "metadata": {},
   "outputs": [],
   "source": [
    "for col_name in df.columns:\n",
    "    if(df[col_name].dtype == 'object'):\n",
    "        df[col_name]= df[col_name].astype('category')\n",
    "        df[col_name] = df[col_name].cat.codes"
   ]
  },
  {
   "cell_type": "code",
   "execution_count": null,
   "id": "9b09d499",
   "metadata": {},
   "outputs": [],
   "source": [
    "df[cat_columns] = df[cat_columns].apply(lambda x: x.cat.codes)\n",
    "\n",
    "df"
   ]
  },
  {
   "cell_type": "code",
   "execution_count": null,
   "id": "7105864a",
   "metadata": {},
   "outputs": [],
   "source": [
    "sns.swarmplot(x=\"rating\", y=\"gross\", data=df)"
   ]
  },
  {
   "cell_type": "code",
   "execution_count": null,
   "id": "3a13211f",
   "metadata": {},
   "outputs": [],
   "source": [
    "sns.stripplot(x=\"rating\", y=\"gross\", data=df)"
   ]
  },
  {
   "cell_type": "code",
   "execution_count": null,
   "id": "54dee26c",
   "metadata": {},
   "outputs": [],
   "source": []
  }
 ],
 "metadata": {
  "kernelspec": {
   "display_name": "Python 3 (ipykernel)",
   "language": "python",
   "name": "python3"
  },
  "language_info": {
   "codemirror_mode": {
    "name": "ipython",
    "version": 3
   },
   "file_extension": ".py",
   "mimetype": "text/x-python",
   "name": "python",
   "nbconvert_exporter": "python",
   "pygments_lexer": "ipython3",
   "version": "3.9.1"
  }
 },
 "nbformat": 4,
 "nbformat_minor": 5
}
